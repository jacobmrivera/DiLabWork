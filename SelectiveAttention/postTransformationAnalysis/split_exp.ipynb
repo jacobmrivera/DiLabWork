{
 "cells": [
  {
   "cell_type": "code",
   "execution_count": 1,
   "metadata": {},
   "outputs": [],
   "source": [
    "import pandas as pd\n",
    "import numpy as np\n",
    "import matplotlib.pyplot as plt\n"
   ]
  },
  {
   "cell_type": "code",
   "execution_count": 2,
   "metadata": {},
   "outputs": [],
   "source": [
    "\n",
    "df = pd.read_csv('../../data/raw_post_multi_extract/transformed/objectLevel/labelingInstanceGazeInfo_jun19.csv')\n"
   ]
  },
  {
   "cell_type": "code",
   "execution_count": 3,
   "metadata": {},
   "outputs": [],
   "source": [
    "df_185 = df[df['expID'] == 185]\n",
    "df_186 = df[df['expID'] == 186]\n",
    "df_187 = df[df['expID'] == 187]\n",
    "df_188 = df[df['expID'] == 188]\n",
    "\n",
    "df_185_pre = df_185[df_185['pretrained'] == 1]\n",
    "df_185_not = df_185[df_185['pretrained'] == 0]\n",
    "\n",
    "df_186_pre = df_186[df_186['pretrained'] == 1]\n",
    "df_186_not = df_186[df_186['pretrained'] == 0]\n",
    "\n",
    "df_187_pre = df_187[df_187['pretrained'] == 1]\n",
    "df_187_not = df_187[df_187['pretrained'] == 0]\n",
    "\n",
    "df_188_pre = df_188[df_188['pretrained'] == 1]\n",
    "df_188_not = df_188[df_188['pretrained'] == 0]\n",
    "\n",
    "proportion_cols = ['i1_curr_targetProp', 'i2_curr_targetProp', 'i3_curr_targetProp',\n",
    "                    'i4_curr_targetProp', 'i5_curr_targetProp', 'i6_curr_targetProp']"
   ]
  },
  {
   "cell_type": "code",
   "execution_count": 10,
   "metadata": {},
   "outputs": [
    {
     "ename": "ModuleNotFoundError",
     "evalue": "No module named 'graphviz'",
     "output_type": "error",
     "traceback": [
      "\u001b[0;31m---------------------------------------------------------------------------\u001b[0m",
      "\u001b[0;31mModuleNotFoundError\u001b[0m                       Traceback (most recent call last)",
      "\u001b[1;32m/Users/jacobrivera/Documents/GitHub/DiLabWork/SelectiveAttention/postTransformationAnalysis/split_exp.ipynb Cell 4\u001b[0m in \u001b[0;36m<cell line: 3>\u001b[0;34m()\u001b[0m\n\u001b[1;32m      <a href='vscode-notebook-cell:/Users/jacobrivera/Documents/GitHub/DiLabWork/SelectiveAttention/postTransformationAnalysis/split_exp.ipynb#W3sZmlsZQ%3D%3D?line=0'>1</a>\u001b[0m \u001b[39mfrom\u001b[39;00m \u001b[39msklearn\u001b[39;00m \u001b[39mimport\u001b[39;00m tree\n\u001b[1;32m      <a href='vscode-notebook-cell:/Users/jacobrivera/Documents/GitHub/DiLabWork/SelectiveAttention/postTransformationAnalysis/split_exp.ipynb#W3sZmlsZQ%3D%3D?line=1'>2</a>\u001b[0m \u001b[39mfrom\u001b[39;00m \u001b[39msklearn\u001b[39;00m\u001b[39m.\u001b[39;00m\u001b[39mdatasets\u001b[39;00m \u001b[39mimport\u001b[39;00m load_iris\n\u001b[0;32m----> <a href='vscode-notebook-cell:/Users/jacobrivera/Documents/GitHub/DiLabWork/SelectiveAttention/postTransformationAnalysis/split_exp.ipynb#W3sZmlsZQ%3D%3D?line=2'>3</a>\u001b[0m \u001b[39mimport\u001b[39;00m \u001b[39mgraphviz\u001b[39;00m \n\u001b[1;32m      <a href='vscode-notebook-cell:/Users/jacobrivera/Documents/GitHub/DiLabWork/SelectiveAttention/postTransformationAnalysis/split_exp.ipynb#W3sZmlsZQ%3D%3D?line=4'>5</a>\u001b[0m iris \u001b[39m=\u001b[39m load_iris()\n\u001b[1;32m      <a href='vscode-notebook-cell:/Users/jacobrivera/Documents/GitHub/DiLabWork/SelectiveAttention/postTransformationAnalysis/split_exp.ipynb#W3sZmlsZQ%3D%3D?line=5'>6</a>\u001b[0m X, y \u001b[39m=\u001b[39m iris\u001b[39m.\u001b[39mdata, iris\u001b[39m.\u001b[39mtarget\n",
      "\u001b[0;31mModuleNotFoundError\u001b[0m: No module named 'graphviz'"
     ]
    }
   ],
   "source": [
    "from sklearn import tree\n",
    "from sklearn.datasets import load_iris\n",
    "import graphviz \n",
    "\n",
    "iris = load_iris()\n",
    "X, y = iris.data, iris.target\n",
    "clf = tree.DecisionTreeClassifier()\n",
    "clf = clf.fit(X, y)\n",
    "tree.plot_tree(clf)"
   ]
  },
  {
   "cell_type": "code",
   "execution_count": 11,
   "metadata": {},
   "outputs": [
    {
     "ename": "NameError",
     "evalue": "name 'graphviz' is not defined",
     "output_type": "error",
     "traceback": [
      "\u001b[0;31m---------------------------------------------------------------------------\u001b[0m",
      "\u001b[0;31mNameError\u001b[0m                                 Traceback (most recent call last)",
      "\u001b[1;32m/Users/jacobrivera/Documents/GitHub/DiLabWork/SelectiveAttention/postTransformationAnalysis/split_exp.ipynb Cell 5\u001b[0m in \u001b[0;36m<cell line: 2>\u001b[0;34m()\u001b[0m\n\u001b[1;32m      <a href='vscode-notebook-cell:/Users/jacobrivera/Documents/GitHub/DiLabWork/SelectiveAttention/postTransformationAnalysis/split_exp.ipynb#W4sZmlsZQ%3D%3D?line=0'>1</a>\u001b[0m dot_data \u001b[39m=\u001b[39m tree\u001b[39m.\u001b[39mexport_graphviz(clf, out_file\u001b[39m=\u001b[39m\u001b[39mNone\u001b[39;00m, feature_names\u001b[39m=\u001b[39miris\u001b[39m.\u001b[39mfeature_names, class_names\u001b[39m=\u001b[39miris\u001b[39m.\u001b[39mtarget_names, filled\u001b[39m=\u001b[39m\u001b[39mTrue\u001b[39;00m, rounded\u001b[39m=\u001b[39m\u001b[39mTrue\u001b[39;00m,special_characters\u001b[39m=\u001b[39m\u001b[39mTrue\u001b[39;00m)  \n\u001b[0;32m----> <a href='vscode-notebook-cell:/Users/jacobrivera/Documents/GitHub/DiLabWork/SelectiveAttention/postTransformationAnalysis/split_exp.ipynb#W4sZmlsZQ%3D%3D?line=1'>2</a>\u001b[0m graph \u001b[39m=\u001b[39m graphviz\u001b[39m.\u001b[39mSource(dot_data)\n\u001b[1;32m      <a href='vscode-notebook-cell:/Users/jacobrivera/Documents/GitHub/DiLabWork/SelectiveAttention/postTransformationAnalysis/split_exp.ipynb#W4sZmlsZQ%3D%3D?line=2'>3</a>\u001b[0m graph\n",
      "\u001b[0;31mNameError\u001b[0m: name 'graphviz' is not defined"
     ]
    }
   ],
   "source": [
    "dot_data = tree.export_graphviz(clf, out_file=None, feature_names=iris.feature_names, class_names=iris.target_names, filled=True, rounded=True,special_characters=True)  \n",
    "graph = graphviz.Source(dot_data)\n",
    "graph"
   ]
  },
  {
   "cell_type": "code",
   "execution_count": null,
   "metadata": {},
   "outputs": [],
   "source": []
  }
 ],
 "metadata": {
  "kernelspec": {
   "display_name": "Python 3",
   "language": "python",
   "name": "python3"
  },
  "language_info": {
   "codemirror_mode": {
    "name": "ipython",
    "version": 3
   },
   "file_extension": ".py",
   "mimetype": "text/x-python",
   "name": "python",
   "nbconvert_exporter": "python",
   "pygments_lexer": "ipython3",
   "version": "3.9.12"
  },
  "orig_nbformat": 4
 },
 "nbformat": 4,
 "nbformat_minor": 2
}
